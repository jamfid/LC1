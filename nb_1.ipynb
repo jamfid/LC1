{
  "cells": [
    {
      "cell_type": "markdown",
      "metadata": {
        "id": "lHVdUBrIqAcM"
      },
      "source": [
        "Progetto di Linguistica Computazionale di Giacomo Fidone (531668) –  Confronto di due corpora"
      ]
    },
    {
      "cell_type": "markdown",
      "source": [
        "# Imports"
      ],
      "metadata": {
        "id": "ynn3GZIwwQmq"
      }
    },
    {
      "cell_type": "code",
      "execution_count": 1,
      "metadata": {
        "id": "DIupFzbCqK4W"
      },
      "outputs": [],
      "source": [
        "import pandas as pd\n",
        "import numpy as np\n",
        "import matplotlib.pyplot as plt\n",
        "import seaborn as sns\n",
        "\n",
        "import nltk\n",
        "from nltk.stem import WordNetLemmatizer\n",
        "from nltk.corpus import wordnet, movie_reviews\n",
        "\n",
        "import sklearn\n",
        "from sklearn.model_selection import train_test_split\n",
        "from sklearn.pipeline import Pipeline\n",
        "from sklearn.feature_extraction.text  import TfidfVectorizer\n",
        "from sklearn.metrics import classification_report, confusion_matrix\n",
        "from sklearn.svm import SVC"
      ]
    },
    {
      "cell_type": "code",
      "execution_count": 2,
      "metadata": {
        "colab": {
          "base_uri": "https://localhost:8080/"
        },
        "id": "03iLd0XEuucD",
        "outputId": "a36e00f3-0c84-4453-93bb-bc23efbb3088"
      },
      "outputs": [
        {
          "output_type": "stream",
          "name": "stderr",
          "text": [
            "[nltk_data] Downloading package punkt to /root/nltk_data...\n",
            "[nltk_data]   Unzipping tokenizers/punkt.zip.\n",
            "[nltk_data] Downloading package wordnet to /root/nltk_data...\n",
            "[nltk_data] Downloading package averaged_perceptron_tagger to\n",
            "[nltk_data]     /root/nltk_data...\n",
            "[nltk_data]   Unzipping taggers/averaged_perceptron_tagger.zip.\n"
          ]
        },
        {
          "output_type": "execute_result",
          "data": {
            "text/plain": [
              "True"
            ]
          },
          "metadata": {},
          "execution_count": 2
        }
      ],
      "source": [
        "nltk.download('punkt')\n",
        "nltk.download('wordnet')\n",
        "nltk.download('averaged_perceptron_tagger')"
      ]
    },
    {
      "cell_type": "code",
      "source": [
        "sns.set_style('whitegrid') # stile dei plot"
      ],
      "metadata": {
        "id": "AYLLWjS8CpxB"
      },
      "execution_count": 3,
      "outputs": []
    },
    {
      "cell_type": "markdown",
      "source": [
        "# Addestramento del classificatore del sentiment"
      ],
      "metadata": {
        "id": "pSPkIxwKwTov"
      }
    },
    {
      "cell_type": "code",
      "source": [
        "nltk.download('movie_reviews')"
      ],
      "metadata": {
        "colab": {
          "base_uri": "https://localhost:8080/"
        },
        "id": "ycb7K2xzgozR",
        "outputId": "6327db1a-6ff0-4773-e5f9-e3318a518da6"
      },
      "execution_count": 4,
      "outputs": [
        {
          "output_type": "stream",
          "name": "stderr",
          "text": [
            "[nltk_data] Downloading package movie_reviews to /root/nltk_data...\n",
            "[nltk_data]   Unzipping corpora/movie_reviews.zip.\n"
          ]
        },
        {
          "output_type": "execute_result",
          "data": {
            "text/plain": [
              "True"
            ]
          },
          "metadata": {},
          "execution_count": 4
        }
      ]
    },
    {
      "cell_type": "code",
      "source": [
        "pos_fileids = movie_reviews.fileids('pos')\n",
        "neg_fileids = movie_reviews.fileids('neg')"
      ],
      "metadata": {
        "id": "DI_UJ2eXguqE"
      },
      "execution_count": 5,
      "outputs": []
    },
    {
      "cell_type": "code",
      "source": [
        "# accedo ai file\n",
        "\n",
        "pos_reviews = [movie_reviews.raw(fileid) for fileid in pos_fileids]\n",
        "neg_reviews = [movie_reviews.raw(fileid) for fileid in neg_fileids]"
      ],
      "metadata": {
        "id": "MeRPqZvnhGAb"
      },
      "execution_count": 6,
      "outputs": []
    },
    {
      "cell_type": "code",
      "source": [
        "# unisco i dati e genero le labels\n",
        "\n",
        "reviews = pos_reviews + neg_reviews\n",
        "labels = [1] * len(pos_reviews) + [0] * len(neg_reviews)"
      ],
      "metadata": {
        "id": "-4Yd0-5efUHq"
      },
      "execution_count": 7,
      "outputs": []
    },
    {
      "cell_type": "code",
      "source": [
        "# divido train e test\n",
        "\n",
        "X_train, X_test, y_train, y_test = train_test_split(reviews, labels, test_size = 0.2, shuffle=True, random_state=42)"
      ],
      "metadata": {
        "id": "6Mcj-pNgIeNL"
      },
      "execution_count": 8,
      "outputs": []
    },
    {
      "cell_type": "code",
      "source": [
        "print(len(X_train), len(y_train))\n",
        "print(len(X_test), len(y_test))"
      ],
      "metadata": {
        "colab": {
          "base_uri": "https://localhost:8080/"
        },
        "id": "dBvhw2l1LMlr",
        "outputId": "d214e993-bb08-4b98-fd6c-ce0890da66bf"
      },
      "execution_count": 9,
      "outputs": [
        {
          "output_type": "stream",
          "name": "stdout",
          "text": [
            "1600 1600\n",
            "400 400\n"
          ]
        }
      ]
    },
    {
      "cell_type": "code",
      "source": [
        "# inizializzo il modello ed il vectorizer\n",
        "\n",
        "vectorizer = TfidfVectorizer(tokenizer=nltk.word_tokenize, max_features=3000)\n",
        "clf = SVC()"
      ],
      "metadata": {
        "id": "8u1B0TF8Mr7c"
      },
      "execution_count": 10,
      "outputs": []
    },
    {
      "cell_type": "code",
      "source": [
        "# inizializzo la pipeline\n",
        "\n",
        "pipe = Pipeline([\n",
        "    ('tfidf-vectorizer', vectorizer),\n",
        "    ('multinomialNB', clf)\n",
        "])"
      ],
      "metadata": {
        "id": "O2KkAnrPK4Lb"
      },
      "execution_count": 11,
      "outputs": []
    },
    {
      "cell_type": "code",
      "source": [
        "# addestro il classifier\n",
        "\n",
        "pipe.fit(X_train, y_train)"
      ],
      "metadata": {
        "colab": {
          "base_uri": "https://localhost:8080/",
          "height": 0
        },
        "id": "tO3A6Q80K7nF",
        "outputId": "76e1e753-90f7-4203-e1d1-b2a95d690ebf"
      },
      "execution_count": 12,
      "outputs": [
        {
          "output_type": "stream",
          "name": "stderr",
          "text": [
            "/usr/local/lib/python3.10/dist-packages/sklearn/feature_extraction/text.py:528: UserWarning: The parameter 'token_pattern' will not be used since 'tokenizer' is not None'\n",
            "  warnings.warn(\n"
          ]
        },
        {
          "output_type": "execute_result",
          "data": {
            "text/plain": [
              "Pipeline(steps=[('tfidf-vectorizer',\n",
              "                 TfidfVectorizer(max_features=3000,\n",
              "                                 tokenizer=<function word_tokenize at 0x7bc0b45dca60>)),\n",
              "                ('multinomialNB', SVC())])"
            ],
            "text/html": [
              "<style>#sk-container-id-1 {color: black;background-color: white;}#sk-container-id-1 pre{padding: 0;}#sk-container-id-1 div.sk-toggleable {background-color: white;}#sk-container-id-1 label.sk-toggleable__label {cursor: pointer;display: block;width: 100%;margin-bottom: 0;padding: 0.3em;box-sizing: border-box;text-align: center;}#sk-container-id-1 label.sk-toggleable__label-arrow:before {content: \"▸\";float: left;margin-right: 0.25em;color: #696969;}#sk-container-id-1 label.sk-toggleable__label-arrow:hover:before {color: black;}#sk-container-id-1 div.sk-estimator:hover label.sk-toggleable__label-arrow:before {color: black;}#sk-container-id-1 div.sk-toggleable__content {max-height: 0;max-width: 0;overflow: hidden;text-align: left;background-color: #f0f8ff;}#sk-container-id-1 div.sk-toggleable__content pre {margin: 0.2em;color: black;border-radius: 0.25em;background-color: #f0f8ff;}#sk-container-id-1 input.sk-toggleable__control:checked~div.sk-toggleable__content {max-height: 200px;max-width: 100%;overflow: auto;}#sk-container-id-1 input.sk-toggleable__control:checked~label.sk-toggleable__label-arrow:before {content: \"▾\";}#sk-container-id-1 div.sk-estimator input.sk-toggleable__control:checked~label.sk-toggleable__label {background-color: #d4ebff;}#sk-container-id-1 div.sk-label input.sk-toggleable__control:checked~label.sk-toggleable__label {background-color: #d4ebff;}#sk-container-id-1 input.sk-hidden--visually {border: 0;clip: rect(1px 1px 1px 1px);clip: rect(1px, 1px, 1px, 1px);height: 1px;margin: -1px;overflow: hidden;padding: 0;position: absolute;width: 1px;}#sk-container-id-1 div.sk-estimator {font-family: monospace;background-color: #f0f8ff;border: 1px dotted black;border-radius: 0.25em;box-sizing: border-box;margin-bottom: 0.5em;}#sk-container-id-1 div.sk-estimator:hover {background-color: #d4ebff;}#sk-container-id-1 div.sk-parallel-item::after {content: \"\";width: 100%;border-bottom: 1px solid gray;flex-grow: 1;}#sk-container-id-1 div.sk-label:hover label.sk-toggleable__label {background-color: #d4ebff;}#sk-container-id-1 div.sk-serial::before {content: \"\";position: absolute;border-left: 1px solid gray;box-sizing: border-box;top: 0;bottom: 0;left: 50%;z-index: 0;}#sk-container-id-1 div.sk-serial {display: flex;flex-direction: column;align-items: center;background-color: white;padding-right: 0.2em;padding-left: 0.2em;position: relative;}#sk-container-id-1 div.sk-item {position: relative;z-index: 1;}#sk-container-id-1 div.sk-parallel {display: flex;align-items: stretch;justify-content: center;background-color: white;position: relative;}#sk-container-id-1 div.sk-item::before, #sk-container-id-1 div.sk-parallel-item::before {content: \"\";position: absolute;border-left: 1px solid gray;box-sizing: border-box;top: 0;bottom: 0;left: 50%;z-index: -1;}#sk-container-id-1 div.sk-parallel-item {display: flex;flex-direction: column;z-index: 1;position: relative;background-color: white;}#sk-container-id-1 div.sk-parallel-item:first-child::after {align-self: flex-end;width: 50%;}#sk-container-id-1 div.sk-parallel-item:last-child::after {align-self: flex-start;width: 50%;}#sk-container-id-1 div.sk-parallel-item:only-child::after {width: 0;}#sk-container-id-1 div.sk-dashed-wrapped {border: 1px dashed gray;margin: 0 0.4em 0.5em 0.4em;box-sizing: border-box;padding-bottom: 0.4em;background-color: white;}#sk-container-id-1 div.sk-label label {font-family: monospace;font-weight: bold;display: inline-block;line-height: 1.2em;}#sk-container-id-1 div.sk-label-container {text-align: center;}#sk-container-id-1 div.sk-container {/* jupyter's `normalize.less` sets `[hidden] { display: none; }` but bootstrap.min.css set `[hidden] { display: none !important; }` so we also need the `!important` here to be able to override the default hidden behavior on the sphinx rendered scikit-learn.org. See: https://github.com/scikit-learn/scikit-learn/issues/21755 */display: inline-block !important;position: relative;}#sk-container-id-1 div.sk-text-repr-fallback {display: none;}</style><div id=\"sk-container-id-1\" class=\"sk-top-container\"><div class=\"sk-text-repr-fallback\"><pre>Pipeline(steps=[(&#x27;tfidf-vectorizer&#x27;,\n",
              "                 TfidfVectorizer(max_features=3000,\n",
              "                                 tokenizer=&lt;function word_tokenize at 0x7bc0b45dca60&gt;)),\n",
              "                (&#x27;multinomialNB&#x27;, SVC())])</pre><b>In a Jupyter environment, please rerun this cell to show the HTML representation or trust the notebook. <br />On GitHub, the HTML representation is unable to render, please try loading this page with nbviewer.org.</b></div><div class=\"sk-container\" hidden><div class=\"sk-item sk-dashed-wrapped\"><div class=\"sk-label-container\"><div class=\"sk-label sk-toggleable\"><input class=\"sk-toggleable__control sk-hidden--visually\" id=\"sk-estimator-id-1\" type=\"checkbox\" ><label for=\"sk-estimator-id-1\" class=\"sk-toggleable__label sk-toggleable__label-arrow\">Pipeline</label><div class=\"sk-toggleable__content\"><pre>Pipeline(steps=[(&#x27;tfidf-vectorizer&#x27;,\n",
              "                 TfidfVectorizer(max_features=3000,\n",
              "                                 tokenizer=&lt;function word_tokenize at 0x7bc0b45dca60&gt;)),\n",
              "                (&#x27;multinomialNB&#x27;, SVC())])</pre></div></div></div><div class=\"sk-serial\"><div class=\"sk-item\"><div class=\"sk-estimator sk-toggleable\"><input class=\"sk-toggleable__control sk-hidden--visually\" id=\"sk-estimator-id-2\" type=\"checkbox\" ><label for=\"sk-estimator-id-2\" class=\"sk-toggleable__label sk-toggleable__label-arrow\">TfidfVectorizer</label><div class=\"sk-toggleable__content\"><pre>TfidfVectorizer(max_features=3000,\n",
              "                tokenizer=&lt;function word_tokenize at 0x7bc0b45dca60&gt;)</pre></div></div></div><div class=\"sk-item\"><div class=\"sk-estimator sk-toggleable\"><input class=\"sk-toggleable__control sk-hidden--visually\" id=\"sk-estimator-id-3\" type=\"checkbox\" ><label for=\"sk-estimator-id-3\" class=\"sk-toggleable__label sk-toggleable__label-arrow\">SVC</label><div class=\"sk-toggleable__content\"><pre>SVC()</pre></div></div></div></div></div></div></div>"
            ]
          },
          "metadata": {},
          "execution_count": 12
        }
      ]
    },
    {
      "cell_type": "code",
      "source": [
        "y_pred = pipe.predict(X_test)"
      ],
      "metadata": {
        "id": "R9xx4lhTKqhp"
      },
      "execution_count": 13,
      "outputs": []
    },
    {
      "cell_type": "code",
      "source": [
        "cm = confusion_matrix(y_test, y_pred)\n",
        "ax = sns.heatmap(cm, annot=True, fmt=\"d\", cmap=\"Blues\")\n",
        "plt.xlabel(\"Predicted labels\")\n",
        "plt.ylabel(\"True labels\")\n",
        "plt.show()"
      ],
      "metadata": {
        "colab": {
          "base_uri": "https://localhost:8080/",
          "height": 0
        },
        "id": "b62nZbIlL_Uy",
        "outputId": "84c810da-0830-4453-fda9-afedc3ea99db"
      },
      "execution_count": 14,
      "outputs": [
        {
          "output_type": "display_data",
          "data": {
            "text/plain": [
              "<Figure size 640x480 with 2 Axes>"
            ],
            "image/png": "[encoded data removed]"
          },
          "metadata": {}
        }
      ]
    },
    {
      "cell_type": "code",
      "source": [
        "print(classification_report(y_test, y_pred, digits=3))"
      ],
      "metadata": {
        "colab": {
          "base_uri": "https://localhost:8080/"
        },
        "id": "ITQTbtvAKtry",
        "outputId": "ecbc6597-8cda-4745-b7eb-2415131a6821"
      },
      "execution_count": 15,
      "outputs": [
        {
          "output_type": "stream",
          "name": "stdout",
          "text": [
            "              precision    recall  f1-score   support\n",
            "\n",
            "           0      0.834     0.776     0.804       201\n",
            "           1      0.789     0.844     0.816       199\n",
            "\n",
            "    accuracy                          0.810       400\n",
            "   macro avg      0.811     0.810     0.810       400\n",
            "weighted avg      0.812     0.810     0.810       400\n",
            "\n"
          ]
        }
      ]
    },
    {
      "cell_type": "markdown",
      "source": [
        "# Confronto di due testi"
      ],
      "metadata": {
        "id": "2--E4diXwYwS"
      }
    },
    {
      "cell_type": "code",
      "source": [
        "class Compare:\n",
        "\n",
        "    def __init__(self, *args):\n",
        "        '''Definisce un oggetto per il confronto di due o più testi. *args richiede i path ai testi da confrontare.'''\n",
        "\n",
        "        self.path = args\n",
        "        self.text = dict() # creo dizionari per salvare i testi, le frasi, le frasi tokenizzate, i token, le POS e le POS esclusa la punteggiatura di ciascun file\n",
        "        self.sents = dict()\n",
        "        self.tokenized_sents = dict()\n",
        "        self.tokens = dict()\n",
        "        self.pos = dict()\n",
        "        self.pos_no_punct = dict()\n",
        "\n",
        "        for path in self.path: # itero su ciascun path per salvare i testi, le frasi, le frasi tokenizzate, i token, le POS e le POS esclusa punteggiatura nei rispettivi dizionari\n",
        "            self.text[path] = self.read_file(path)\n",
        "            self.sents[path] = nltk.tokenize.sent_tokenize(self.text[path])\n",
        "            self.tokenized_sents[path] = [nltk.word_tokenize(sent) for sent in self.sents[path]]\n",
        "            self.tokens[path] = [token for sent in self.tokenized_sents[path] for token in sent]\n",
        "            self.pos[path] = nltk.tag.pos_tag(self.tokens[path])\n",
        "            penn_punct_pos =  ['.', ',', ':', '(', ')', '\\'', '\"'] # pos tags di Penn treebank per la punteggiatura\n",
        "            self.pos_no_punct[path] = [(token, pos) for token, pos in self.pos[path] if pos not in penn_punct_pos]\n",
        "\n",
        "    def compare_length(self):\n",
        "        '''Confronta il numero di frasi ed il numero di token dei testi.'''\n",
        "\n",
        "        for path in self.path: # itero su ciascun path per accedere alle frasi e ai token e calcolarne il numero\n",
        "            num_sents = len(self.sents[path])\n",
        "            num_tokens = len(self.tokens[path])\n",
        "\n",
        "            print('Testo:', path)\n",
        "            print(f'Numero di frasi: {num_sents}\\tNumero di token: {num_tokens}.\\n')\n",
        "\n",
        "    def compare_avg_length(self):\n",
        "        '''Confronta la lunghezza media delle frasi in token e dei token (punteggiatura esclusa) in caratteri.'''\n",
        "\n",
        "        for path in self.path:\n",
        "            sent_lens = [len(sent) for sent in self.tokenized_sents[path]] # lunghezze delle frasi in token\n",
        "            avg_sent_len = round(sum(sent_lens) / len(sent_lens), 3) # lunghezza media\n",
        "\n",
        "            token_lens = [len(token) for token, pos in self.pos_no_punct[path]] # lunghezze dei token (punteggiatura esclusa)\n",
        "            avg_token_len = round(sum(token_lens) / len(token_lens), 3) # lunghezza media\n",
        "\n",
        "            print(f'Testo: {path}')\n",
        "            print(f'Lunghezza media delle frasi in token: {avg_sent_len}\\tLunghezza media dei token (punteggiatura esclusa) in caratteri: {avg_token_len}.\\n')\n",
        "\n",
        "    def compare_hapax(self):\n",
        "        '''Confronta gli hapax dei testi per porzioni incrementali (500, 1000, 3000 e tutti i token) di testo.'''\n",
        "\n",
        "        hapax_dicts = dict() # dizionario per memorizzare (per ciascun testo) un dizionario della forma {upper_bound:num_hapax} funzionale alla generazione del grafico\n",
        "\n",
        "        for path, tokens in self.tokens.items(): # itero sui token di ciascun testo\n",
        "            print('Testo:', path)\n",
        "            hapax_dict = dict() # dizionario per memorizzare il numero di hapax per ogni upper_bound\n",
        "            max_length = len(tokens)\n",
        "\n",
        "            for upper_bound in [500, 1000, 3000, max_length]:\n",
        "                text_slice = tokens[:upper_bound]\n",
        "                num_hapax = len(self.get_hapax(text_slice))\n",
        "                if upper_bound == max_length: # per la generazione del grafico, riconduco le max_length ad un'unica etichetta\n",
        "                    hapax_dict['tutti i token'] = num_hapax\n",
        "                else:\n",
        "                    hapax_dict[upper_bound] = num_hapax\n",
        "                print(f'Upper bound: {upper_bound}\\t Numero di hapax: {num_hapax}')\n",
        "\n",
        "            print('')\n",
        "            hapax_dicts[path] = hapax_dict\n",
        "\n",
        "        data = pd.DataFrame(hapax_dicts) # converto in pandas DataFrame per semplificare la generazione del grafico\n",
        "        data.plot()\n",
        "        plt.title('Numero di hapax nei primi 500, 1000, 3000 token e su tutto il testo')\n",
        "        plt.xlabel('Upper bound')\n",
        "        plt.ylabel('Numero di hapax')\n",
        "        plt.show()\n",
        "\n",
        "    def compare_vocabulary(self):\n",
        "        '''Confronta le dimensioni del vocabolario dei testi per porzioni incrementali (200 token) di testo.'''\n",
        "\n",
        "        voc_dicts = dict()\n",
        "\n",
        "        for path, tokens in self.tokens.items():\n",
        "            print('Testo:', path)\n",
        "            voc_dict = dict()\n",
        "            max_length = len(tokens)\n",
        "            upper_bound = 0 # inizializzo upper_bound\n",
        "\n",
        "            while upper_bound < max_length:\n",
        "                upper_bound += 200 # update dell'upper_bound\n",
        "                if upper_bound > max_length: # riconduco l'upper_bound a max_length se l'update genera un upper_bound maggiore di max_length\n",
        "                    upper_bound = max_length\n",
        "                text_slice = tokens[:upper_bound]\n",
        "                len_voc = len(list(set(text_slice)))\n",
        "                voc_dict[upper_bound] = len_voc\n",
        "                print(f'Upper bound: {upper_bound}\\tDimensione del vocabolario: {len_voc}')\n",
        "\n",
        "            print('')\n",
        "            voc_dicts[path] = voc_dict\n",
        "\n",
        "        data = pd.DataFrame(voc_dicts)\n",
        "        data.plot()\n",
        "        plt.title('Dimensione del vocabolario per porzioni incrementali di testo (200 token)')\n",
        "        plt.xlabel('Upper bound')\n",
        "        plt.ylabel('Dimensione del vocabolario')\n",
        "        plt.show()\n",
        "\n",
        "    def compare_ttr(self):\n",
        "        '''Confronta la Type-Token Ratio dei testi per porzioni incrementali (200 token) di testo.'''\n",
        "\n",
        "        ttr_dicts = dict() # il codice è analogo a quello implementato per compare_vocabulary()\n",
        "\n",
        "        for path, tokens in self.tokens.items():\n",
        "            print('Testo:', path)\n",
        "            ttr_dict = dict()\n",
        "            max_length = len(tokens)\n",
        "            upper_bound = 0\n",
        "\n",
        "            while upper_bound < max_length:\n",
        "                upper_bound += 200\n",
        "                if upper_bound > max_length:\n",
        "                    upper_bound = max_length\n",
        "                text_slice = tokens[:upper_bound]\n",
        "                ttr = len(list(set(text_slice))) / len(text_slice)\n",
        "                ttr_dict[upper_bound] = ttr\n",
        "                print(f'Upper bound: {upper_bound}\\tType-Token Ratio: {round(ttr, 3)}')\n",
        "\n",
        "            print('')\n",
        "            ttr_dicts[path] = ttr_dict\n",
        "\n",
        "        data = pd.DataFrame(ttr_dicts)\n",
        "        data.plot()\n",
        "        plt.title('Type-Token Ratio per porzioni incrementali di testo (200 token)')\n",
        "        plt.xlabel('Upper bound')\n",
        "        plt.ylabel('Type-Token Ratio')\n",
        "        plt.show()\n",
        "\n",
        "    def compare_lemmas(self):\n",
        "        '''Confronta il numero di lemmi distinti dei testi.'''\n",
        "\n",
        "        lemmatizer = WordNetLemmatizer() # inizializzo il lemmatizzatore\n",
        "\n",
        "        for path in self.path: # lemmatizzo ogni token passando in input al lemmatizzatore sia il token che la pos di wordnet. Escludo la punteggiatura\n",
        "            lemmas = [lemmatizer.lemmatize(token, self.get_wordnet_pos(pos)) for token, pos in self.pos_no_punct[path]]\n",
        "            num_unique_lemmas = len(list(set(lemmas)))\n",
        "            print(f'Testo: {path}')\n",
        "            print(f'Numero di lemmi distinti: {num_unique_lemmas}\\n')\n",
        "\n",
        "    def compare_sentiment(self):\n",
        "        '''Confronta i testi rispetto alla distribuzione di frasi con polarità positiva e negativa. Il metodo utilizza il\n",
        "        classificatore addestrato nella sezione precedente.'''\n",
        "\n",
        "        sentiment_dicts = dict() # dizionario per memorizzare (per ciascun testo) un dizionario della forma {classe:numero di frasi}\n",
        "\n",
        "        for path, sents in self.sents.items(): # itero sulle frasi di ciascun testo\n",
        "            sentiment_dict = dict() # dizionario della forma {classe:numero di frasi}\n",
        "            y_pred = pipe.predict(sents) # uso la pipeline per generare le predizioni\n",
        "            labels, counts = np.unique(y_pred, return_counts=True) # conto il numero di predizioni di ciascuna classe\n",
        "            labels = np.where(labels == 0, 'sentiment negativo', 'sentiment positivo') # sostitusco le classi (numeriche) con stringhe interpretabili\n",
        "            print('Text:', path)\n",
        "            for label, count in zip(labels, counts): # itero su ciascuna classe e corrispondente numero di predizioni\n",
        "                freq = count / len(y_pred) # calcolo la frequenza relativa di ciascuna classe rispetto al totale delle predizioni\n",
        "                sentiment_dict[label] = freq\n",
        "                print(f'Frazione di frasi con {label}: {round(freq, 3)}')\n",
        "\n",
        "            print('')\n",
        "            sentiment_dicts[path] = sentiment_dict\n",
        "\n",
        "        data = pd.DataFrame(sentiment_dicts)\n",
        "        data.plot(kind='barh')\n",
        "        plt.title('')\n",
        "        plt.xlabel('')\n",
        "        plt.ylabel('')\n",
        "        plt.xlim(0, 1)\n",
        "        plt.show()\n",
        "\n",
        "    @staticmethod\n",
        "    def read_file(path_to_file):\n",
        "        '''Apre un file e lo restituisce come stringa.'''\n",
        "\n",
        "        with open(path_to_file, 'r', encoding='utf-8') as infile:\n",
        "            return infile.read()\n",
        "\n",
        "    @staticmethod\n",
        "    def get_hapax(tokens):\n",
        "        '''Restituisce gli hapax di una lista di token.'''\n",
        "\n",
        "        return [token for token in list(set(tokens)) if tokens.count(token) == 1]\n",
        "\n",
        "    @staticmethod\n",
        "    def get_wordnet_pos(treebank_tag):\n",
        "        '''Converte la POS di Penn Treebank nella POS di Wordnet.'''\n",
        "\n",
        "        if treebank_tag.startswith('J'):\n",
        "            return wordnet.ADJ\n",
        "        if treebank_tag.startswith('V'):\n",
        "            return wordnet.VERB\n",
        "        if treebank_tag.startswith('N'):\n",
        "            return wordnet.NOUN\n",
        "        if treebank_tag.startswith('R'):\n",
        "            return wordnet.ADV\n",
        "        else:\n",
        "            return wordnet.NOUN"
      ],
      "metadata": {
        "id": "QHuuLyhl11aC"
      },
      "execution_count": 16,
      "outputs": []
    },
    {
      "cell_type": "code",
      "source": [
        "compare = Compare('animal_farm.txt', 'constitution_of_the_united_states.txt')"
      ],
      "metadata": {
        "id": "KTVYvyZA4CKq"
      },
      "execution_count": 17,
      "outputs": []
    },
    {
      "cell_type": "code",
      "source": [
        "compare.compare_length()"
      ],
      "metadata": {
        "colab": {
          "base_uri": "https://localhost:8080/"
        },
        "id": "_KT0857L4WgQ",
        "outputId": "793c4326-7b38-4425-f580-22bdbe1062f0"
      },
      "execution_count": 18,
      "outputs": [
        {
          "output_type": "stream",
          "name": "stdout",
          "text": [
            "Testo: animal_farm.txt\n",
            "Numero di frasi: 1640\tNumero di token: 34453.\n",
            "\n",
            "Testo: constitution_of_the_united_states.txt\n",
            "Numero di frasi: 440\tNumero di token: 20283.\n",
            "\n"
          ]
        }
      ]
    },
    {
      "cell_type": "code",
      "source": [
        "compare.compare_avg_length()"
      ],
      "metadata": {
        "colab": {
          "base_uri": "https://localhost:8080/"
        },
        "id": "e7U-H4bWMoSs",
        "outputId": "19468eac-0fe8-4334-e024-101af3da1c90"
      },
      "execution_count": 19,
      "outputs": [
        {
          "output_type": "stream",
          "name": "stdout",
          "text": [
            "Testo: animal_farm.txt\n",
            "Lunghezza media delle frasi in token: 21.008\tLunghezza media dei token (punteggiatura esclusa) in caratteri: 4.394.\n",
            "\n",
            "Testo: constitution_of_the_united_states.txt\n",
            "Lunghezza media delle frasi in token: 46.098\tLunghezza media dei token (punteggiatura esclusa) in caratteri: 4.794.\n",
            "\n"
          ]
        }
      ]
    },
    {
      "cell_type": "code",
      "source": [
        "compare.compare_hapax()"
      ],
      "metadata": {
        "colab": {
          "base_uri": "https://localhost:8080/",
          "height": 680
        },
        "id": "HF1HGrcl_QZF",
        "outputId": "2e42bb0b-19dd-4569-8c92-3b0b5028703c"
      },
      "execution_count": 20,
      "outputs": [
        {
          "output_type": "stream",
          "name": "stdout",
          "text": [
            "Testo: animal_farm.txt\n",
            "Upper bound: 500\t Numero di hapax: 188\n",
            "Upper bound: 1000\t Numero di hapax: 296\n",
            "Upper bound: 3000\t Numero di hapax: 563\n",
            "Upper bound: 34453\t Numero di hapax: 2171\n",
            "\n",
            "Testo: constitution_of_the_united_states.txt\n",
            "Upper bound: 500\t Numero di hapax: 166\n",
            "Upper bound: 1000\t Numero di hapax: 226\n",
            "Upper bound: 3000\t Numero di hapax: 368\n",
            "Upper bound: 20283\t Numero di hapax: 959\n",
            "\n"
          ]
        },
        {
          "output_type": "display_data",
          "data": {
            "text/plain": [
              "<Figure size 640x480 with 1 Axes>"
            ],
            "image/png": "[encoded data removed]"
          },
          "metadata": {}
        }
      ]
    },
    {
      "cell_type": "code",
      "source": [
        "compare.compare_vocabulary()"
      ],
      "metadata": {
        "colab": {
          "base_uri": "https://localhost:8080/",
          "height": 1000
        },
        "id": "behy-snWaTaz",
        "outputId": "f5047a08-f4aa-4b6c-b7c1-7ae81691815c"
      },
      "execution_count": 21,
      "outputs": [
        {
          "output_type": "stream",
          "name": "stdout",
          "text": [
            "Testo: animal_farm.txt\n",
            "Upper bound: 200\tDimensione del vocabolario: 117\n",
            "Upper bound: 400\tDimensione del vocabolario: 211\n",
            "Upper bound: 600\tDimensione del vocabolario: 290\n",
            "Upper bound: 800\tDimensione del vocabolario: 360\n",
            "Upper bound: 1000\tDimensione del vocabolario: 426\n",
            "Upper bound: 1200\tDimensione del vocabolario: 494\n",
            "Upper bound: 1400\tDimensione del vocabolario: 556\n",
            "Upper bound: 1600\tDimensione del vocabolario: 602\n",
            "Upper bound: 1800\tDimensione del vocabolario: 650\n",
            "Upper bound: 2000\tDimensione del vocabolario: 696\n",
            "Upper bound: 2200\tDimensione del vocabolario: 735\n",
            "Upper bound: 2400\tDimensione del vocabolario: 780\n",
            "Upper bound: 2600\tDimensione del vocabolario: 809\n",
            "Upper bound: 2800\tDimensione del vocabolario: 866\n",
            "Upper bound: 3000\tDimensione del vocabolario: 901\n",
            "Upper bound: 3200\tDimensione del vocabolario: 949\n",
            "Upper bound: 3400\tDimensione del vocabolario: 994\n",
            "Upper bound: 3600\tDimensione del vocabolario: 1026\n",
            "Upper bound: 3800\tDimensione del vocabolario: 1059\n",
            "Upper bound: 4000\tDimensione del vocabolario: 1099\n",
            "Upper bound: 4200\tDimensione del vocabolario: 1141\n",
            "Upper bound: 4400\tDimensione del vocabolario: 1180\n",
            "Upper bound: 4600\tDimensione del vocabolario: 1220\n",
            "Upper bound: 4800\tDimensione del vocabolario: 1259\n",
            "Upper bound: 5000\tDimensione del vocabolario: 1296\n",
            "Upper bound: 5200\tDimensione del vocabolario: 1338\n",
            "Upper bound: 5400\tDimensione del vocabolario: 1368\n",
            "Upper bound: 5600\tDimensione del vocabolario: 1406\n",
            "Upper bound: 5800\tDimensione del vocabolario: 1431\n",
            "Upper bound: 6000\tDimensione del vocabolario: 1459\n",
            "Upper bound: 6200\tDimensione del vocabolario: 1499\n",
            "Upper bound: 6400\tDimensione del vocabolario: 1532\n",
            "Upper bound: 6600\tDimensione del vocabolario: 1559\n",
            "Upper bound: 6800\tDimensione del vocabolario: 1589\n",
            "Upper bound: 7000\tDimensione del vocabolario: 1618\n",
            "Upper bound: 7200\tDimensione del vocabolario: 1644\n",
            "Upper bound: 7400\tDimensione del vocabolario: 1681\n",
            "Upper bound: 7600\tDimensione del vocabolario: 1701\n",
            "Upper bound: 7800\tDimensione del vocabolario: 1732\n",
            "Upper bound: 8000\tDimensione del vocabolario: 1769\n",
            "Upper bound: 8200\tDimensione del vocabolario: 1790\n",
            "Upper bound: 8400\tDimensione del vocabolario: 1817\n",
            "Upper bound: 8600\tDimensione del vocabolario: 1838\n",
            "Upper bound: 8800\tDimensione del vocabolario: 1873\n",
            "Upper bound: 9000\tDimensione del vocabolario: 1902\n",
            "Upper bound: 9200\tDimensione del vocabolario: 1945\n",
            "Upper bound: 9400\tDimensione del vocabolario: 1971\n",
            "Upper bound: 9600\tDimensione del vocabolario: 2004\n",
            "Upper bound: 9800\tDimensione del vocabolario: 2027\n",
            "Upper bound: 10000\tDimensione del vocabolario: 2063\n",
            "Upper bound: 10200\tDimensione del vocabolario: 2089\n",
            "Upper bound: 10400\tDimensione del vocabolario: 2115\n",
            "Upper bound: 10600\tDimensione del vocabolario: 2139\n",
            "Upper bound: 10800\tDimensione del vocabolario: 2158\n",
            "Upper bound: 11000\tDimensione del vocabolario: 2176\n",
            "Upper bound: 11200\tDimensione del vocabolario: 2207\n",
            "Upper bound: 11400\tDimensione del vocabolario: 2237\n",
            "Upper bound: 11600\tDimensione del vocabolario: 2263\n",
            "Upper bound: 11800\tDimensione del vocabolario: 2305\n",
            "Upper bound: 12000\tDimensione del vocabolario: 2333\n",
            "Upper bound: 12200\tDimensione del vocabolario: 2351\n",
            "Upper bound: 12400\tDimensione del vocabolario: 2362\n",
            "Upper bound: 12600\tDimensione del vocabolario: 2391\n",
            "Upper bound: 12800\tDimensione del vocabolario: 2419\n",
            "Upper bound: 13000\tDimensione del vocabolario: 2438\n",
            "Upper bound: 13200\tDimensione del vocabolario: 2463\n",
            "Upper bound: 13400\tDimensione del vocabolario: 2480\n",
            "Upper bound: 13600\tDimensione del vocabolario: 2502\n",
            "Upper bound: 13800\tDimensione del vocabolario: 2525\n",
            "Upper bound: 14000\tDimensione del vocabolario: 2537\n",
            "Upper bound: 14200\tDimensione del vocabolario: 2558\n",
            "Upper bound: 14400\tDimensione del vocabolario: 2579\n",
            "Upper bound: 14600\tDimensione del vocabolario: 2610\n",
            "Upper bound: 14800\tDimensione del vocabolario: 2635\n",
            "Upper bound: 15000\tDimensione del vocabolario: 2655\n",
            "Upper bound: 15200\tDimensione del vocabolario: 2677\n",
            "Upper bound: 15400\tDimensione del vocabolario: 2696\n",
            "Upper bound: 15600\tDimensione del vocabolario: 2716\n",
            "Upper bound: 15800\tDimensione del vocabolario: 2746\n",
            "Upper bound: 16000\tDimensione del vocabolario: 2763\n",
            "Upper bound: 16200\tDimensione del vocabolario: 2780\n",
            "Upper bound: 16400\tDimensione del vocabolario: 2792\n",
            "Upper bound: 16600\tDimensione del vocabolario: 2804\n",
            "Upper bound: 16800\tDimensione del vocabolario: 2818\n",
            "Upper bound: 17000\tDimensione del vocabolario: 2839\n",
            "Upper bound: 17200\tDimensione del vocabolario: 2866\n",
            "Upper bound: 17400\tDimensione del vocabolario: 2885\n",
            "Upper bound: 17600\tDimensione del vocabolario: 2903\n",
            "Upper bound: 17800\tDimensione del vocabolario: 2925\n",
            "Upper bound: 18000\tDimensione del vocabolario: 2952\n",
            "Upper bound: 18200\tDimensione del vocabolario: 2968\n",
            "Upper bound: 18400\tDimensione del vocabolario: 2991\n",
            "Upper bound: 18600\tDimensione del vocabolario: 3007\n",
            "Upper bound: 18800\tDimensione del vocabolario: 3026\n",
            "Upper bound: 19000\tDimensione del vocabolario: 3050\n",
            "Upper bound: 19200\tDimensione del vocabolario: 3068\n",
            "Upper bound: 19400\tDimensione del vocabolario: 3081\n",
            "Upper bound: 19600\tDimensione del vocabolario: 3088\n",
            "Upper bound: 19800\tDimensione del vocabolario: 3100\n",
            "Upper bound: 20000\tDimensione del vocabolario: 3120\n",
            "Upper bound: 20200\tDimensione del vocabolario: 3147\n",
            "Upper bound: 20400\tDimensione del vocabolario: 3162\n",
            "Upper bound: 20600\tDimensione del vocabolario: 3184\n",
            "Upper bound: 20800\tDimensione del vocabolario: 3197\n",
            "Upper bound: 21000\tDimensione del vocabolario: 3213\n",
            "Upper bound: 21200\tDimensione del vocabolario: 3227\n",
            "Upper bound: 21400\tDimensione del vocabolario: 3235\n",
            "Upper bound: 21600\tDimensione del vocabolario: 3251\n",
            "Upper bound: 21800\tDimensione del vocabolario: 3267\n",
            "Upper bound: 22000\tDimensione del vocabolario: 3283\n",
            "Upper bound: 22200\tDimensione del vocabolario: 3304\n",
            "Upper bound: 22400\tDimensione del vocabolario: 3330\n",
            "Upper bound: 22600\tDimensione del vocabolario: 3363\n",
            "Upper bound: 22800\tDimensione del vocabolario: 3378\n",
            "Upper bound: 23000\tDimensione del vocabolario: 3409\n",
            "Upper bound: 23200\tDimensione del vocabolario: 3433\n",
            "Upper bound: 23400\tDimensione del vocabolario: 3452\n",
            "Upper bound: 23600\tDimensione del vocabolario: 3472\n",
            "Upper bound: 23800\tDimensione del vocabolario: 3481\n",
            "Upper bound: 24000\tDimensione del vocabolario: 3503\n",
            "Upper bound: 24200\tDimensione del vocabolario: 3524\n",
            "Upper bound: 24400\tDimensione del vocabolario: 3544\n",
            "Upper bound: 24600\tDimensione del vocabolario: 3563\n",
            "Upper bound: 24800\tDimensione del vocabolario: 3585\n",
            "Upper bound: 25000\tDimensione del vocabolario: 3605\n",
            "Upper bound: 25200\tDimensione del vocabolario: 3618\n",
            "Upper bound: 25400\tDimensione del vocabolario: 3629\n",
            "Upper bound: 25600\tDimensione del vocabolario: 3646\n",
            "Upper bound: 25800\tDimensione del vocabolario: 3659\n",
            "Upper bound: 26000\tDimensione del vocabolario: 3674\n",
            "Upper bound: 26200\tDimensione del vocabolario: 3688\n",
            "Upper bound: 26400\tDimensione del vocabolario: 3697\n",
            "Upper bound: 26600\tDimensione del vocabolario: 3713\n",
            "Upper bound: 26800\tDimensione del vocabolario: 3724\n",
            "Upper bound: 27000\tDimensione del vocabolario: 3734\n",
            "Upper bound: 27200\tDimensione del vocabolario: 3746\n",
            "Upper bound: 27400\tDimensione del vocabolario: 3766\n",
            "Upper bound: 27600\tDimensione del vocabolario: 3787\n",
            "Upper bound: 27800\tDimensione del vocabolario: 3803\n",
            "Upper bound: 28000\tDimensione del vocabolario: 3818\n",
            "Upper bound: 28200\tDimensione del vocabolario: 3831\n",
            "Upper bound: 28400\tDimensione del vocabolario: 3847\n",
            "Upper bound: 28600\tDimensione del vocabolario: 3851\n",
            "Upper bound: 28800\tDimensione del vocabolario: 3861\n",
            "Upper bound: 29000\tDimensione del vocabolario: 3874\n",
            "Upper bound: 29200\tDimensione del vocabolario: 3887\n",
            "Upper bound: 29400\tDimensione del vocabolario: 3902\n",
            "Upper bound: 29600\tDimensione del vocabolario: 3929\n",
            "Upper bound: 29800\tDimensione del vocabolario: 3934\n",
            "Upper bound: 30000\tDimensione del vocabolario: 3950\n",
            "Upper bound: 30200\tDimensione del vocabolario: 3962\n",
            "Upper bound: 30400\tDimensione del vocabolario: 3979\n",
            "Upper bound: 30600\tDimensione del vocabolario: 3992\n",
            "Upper bound: 30800\tDimensione del vocabolario: 4001\n",
            "Upper bound: 31000\tDimensione del vocabolario: 4012\n",
            "Upper bound: 31200\tDimensione del vocabolario: 4026\n",
            "Upper bound: 31400\tDimensione del vocabolario: 4037\n",
            "Upper bound: 31600\tDimensione del vocabolario: 4050\n",
            "Upper bound: 31800\tDimensione del vocabolario: 4066\n",
            "Upper bound: 32000\tDimensione del vocabolario: 4075\n",
            "Upper bound: 32200\tDimensione del vocabolario: 4088\n",
            "Upper bound: 32400\tDimensione del vocabolario: 4100\n",
            "Upper bound: 32600\tDimensione del vocabolario: 4112\n",
            "Upper bound: 32800\tDimensione del vocabolario: 4144\n",
            "Upper bound: 33000\tDimensione del vocabolario: 4159\n",
            "Upper bound: 33200\tDimensione del vocabolario: 4175\n",
            "Upper bound: 33400\tDimensione del vocabolario: 4195\n",
            "Upper bound: 33600\tDimensione del vocabolario: 4212\n",
            "Upper bound: 33800\tDimensione del vocabolario: 4228\n",
            "Upper bound: 34000\tDimensione del vocabolario: 4243\n",
            "Upper bound: 34200\tDimensione del vocabolario: 4252\n",
            "Upper bound: 34400\tDimensione del vocabolario: 4267\n",
            "Upper bound: 34453\tDimensione del vocabolario: 4270\n",
            "\n",
            "Testo: constitution_of_the_united_states.txt\n",
            "Upper bound: 200\tDimensione del vocabolario: 95\n",
            "Upper bound: 400\tDimensione del vocabolario: 169\n",
            "Upper bound: 600\tDimensione del vocabolario: 237\n",
            "Upper bound: 800\tDimensione del vocabolario: 289\n",
            "Upper bound: 1000\tDimensione del vocabolario: 341\n",
            "Upper bound: 1200\tDimensione del vocabolario: 350\n",
            "Upper bound: 1400\tDimensione del vocabolario: 396\n",
            "Upper bound: 1600\tDimensione del vocabolario: 428\n",
            "Upper bound: 1800\tDimensione del vocabolario: 455\n",
            "Upper bound: 2000\tDimensione del vocabolario: 479\n",
            "Upper bound: 2200\tDimensione del vocabolario: 506\n",
            "Upper bound: 2400\tDimensione del vocabolario: 543\n",
            "Upper bound: 2600\tDimensione del vocabolario: 585\n",
            "Upper bound: 2800\tDimensione del vocabolario: 614\n",
            "Upper bound: 3000\tDimensione del vocabolario: 643\n",
            "Upper bound: 3200\tDimensione del vocabolario: 669\n",
            "Upper bound: 3400\tDimensione del vocabolario: 718\n",
            "Upper bound: 3600\tDimensione del vocabolario: 788\n",
            "Upper bound: 3800\tDimensione del vocabolario: 830\n",
            "Upper bound: 4000\tDimensione del vocabolario: 858\n",
            "Upper bound: 4200\tDimensione del vocabolario: 890\n",
            "Upper bound: 4400\tDimensione del vocabolario: 914\n",
            "Upper bound: 4600\tDimensione del vocabolario: 931\n",
            "Upper bound: 4800\tDimensione del vocabolario: 940\n",
            "Upper bound: 5000\tDimensione del vocabolario: 958\n",
            "Upper bound: 5200\tDimensione del vocabolario: 968\n",
            "Upper bound: 5400\tDimensione del vocabolario: 994\n",
            "Upper bound: 5600\tDimensione del vocabolario: 1021\n",
            "Upper bound: 5800\tDimensione del vocabolario: 1034\n",
            "Upper bound: 6000\tDimensione del vocabolario: 1049\n",
            "Upper bound: 6200\tDimensione del vocabolario: 1072\n",
            "Upper bound: 6400\tDimensione del vocabolario: 1097\n",
            "Upper bound: 6600\tDimensione del vocabolario: 1112\n",
            "Upper bound: 6800\tDimensione del vocabolario: 1137\n",
            "Upper bound: 7000\tDimensione del vocabolario: 1154\n",
            "Upper bound: 7200\tDimensione del vocabolario: 1231\n",
            "Upper bound: 7400\tDimensione del vocabolario: 1289\n",
            "Upper bound: 7600\tDimensione del vocabolario: 1307\n",
            "Upper bound: 7800\tDimensione del vocabolario: 1340\n",
            "Upper bound: 8000\tDimensione del vocabolario: 1383\n",
            "Upper bound: 8200\tDimensione del vocabolario: 1416\n",
            "Upper bound: 8400\tDimensione del vocabolario: 1433\n",
            "Upper bound: 8600\tDimensione del vocabolario: 1450\n",
            "Upper bound: 8800\tDimensione del vocabolario: 1460\n",
            "Upper bound: 9000\tDimensione del vocabolario: 1470\n",
            "Upper bound: 9200\tDimensione del vocabolario: 1481\n",
            "Upper bound: 9400\tDimensione del vocabolario: 1505\n",
            "Upper bound: 9600\tDimensione del vocabolario: 1522\n",
            "Upper bound: 9800\tDimensione del vocabolario: 1537\n",
            "Upper bound: 10000\tDimensione del vocabolario: 1557\n",
            "Upper bound: 10200\tDimensione del vocabolario: 1579\n",
            "Upper bound: 10400\tDimensione del vocabolario: 1601\n",
            "Upper bound: 10600\tDimensione del vocabolario: 1603\n",
            "Upper bound: 10800\tDimensione del vocabolario: 1606\n",
            "Upper bound: 11000\tDimensione del vocabolario: 1616\n",
            "Upper bound: 11200\tDimensione del vocabolario: 1621\n",
            "Upper bound: 11400\tDimensione del vocabolario: 1633\n",
            "Upper bound: 11600\tDimensione del vocabolario: 1644\n",
            "Upper bound: 11800\tDimensione del vocabolario: 1649\n",
            "Upper bound: 12000\tDimensione del vocabolario: 1660\n",
            "Upper bound: 12200\tDimensione del vocabolario: 1661\n",
            "Upper bound: 12400\tDimensione del vocabolario: 1678\n",
            "Upper bound: 12600\tDimensione del vocabolario: 1688\n",
            "Upper bound: 12800\tDimensione del vocabolario: 1688\n",
            "Upper bound: 13000\tDimensione del vocabolario: 1700\n",
            "Upper bound: 13200\tDimensione del vocabolario: 1701\n",
            "Upper bound: 13400\tDimensione del vocabolario: 1703\n",
            "Upper bound: 13600\tDimensione del vocabolario: 1716\n",
            "Upper bound: 13800\tDimensione del vocabolario: 1725\n",
            "Upper bound: 14000\tDimensione del vocabolario: 1734\n",
            "Upper bound: 14200\tDimensione del vocabolario: 1734\n",
            "Upper bound: 14400\tDimensione del vocabolario: 1734\n",
            "Upper bound: 14600\tDimensione del vocabolario: 1740\n",
            "Upper bound: 14800\tDimensione del vocabolario: 1740\n",
            "Upper bound: 15000\tDimensione del vocabolario: 1746\n",
            "Upper bound: 15200\tDimensione del vocabolario: 1754\n",
            "Upper bound: 15400\tDimensione del vocabolario: 1757\n",
            "Upper bound: 15600\tDimensione del vocabolario: 1771\n",
            "Upper bound: 15800\tDimensione del vocabolario: 1781\n",
            "Upper bound: 16000\tDimensione del vocabolario: 1782\n",
            "Upper bound: 16200\tDimensione del vocabolario: 1793\n",
            "Upper bound: 16400\tDimensione del vocabolario: 1795\n",
            "Upper bound: 16600\tDimensione del vocabolario: 1797\n",
            "Upper bound: 16800\tDimensione del vocabolario: 1811\n",
            "Upper bound: 17000\tDimensione del vocabolario: 1824\n",
            "Upper bound: 17200\tDimensione del vocabolario: 1832\n",
            "Upper bound: 17400\tDimensione del vocabolario: 1835\n",
            "Upper bound: 17600\tDimensione del vocabolario: 1835\n",
            "Upper bound: 17800\tDimensione del vocabolario: 1841\n",
            "Upper bound: 18000\tDimensione del vocabolario: 1841\n",
            "Upper bound: 18200\tDimensione del vocabolario: 1847\n",
            "Upper bound: 18400\tDimensione del vocabolario: 1856\n",
            "Upper bound: 18600\tDimensione del vocabolario: 1866\n",
            "Upper bound: 18800\tDimensione del vocabolario: 1889\n",
            "Upper bound: 19000\tDimensione del vocabolario: 1905\n",
            "Upper bound: 19200\tDimensione del vocabolario: 1920\n",
            "Upper bound: 19400\tDimensione del vocabolario: 1934\n",
            "Upper bound: 19600\tDimensione del vocabolario: 1945\n",
            "Upper bound: 19800\tDimensione del vocabolario: 1963\n",
            "Upper bound: 20000\tDimensione del vocabolario: 1967\n",
            "Upper bound: 20200\tDimensione del vocabolario: 1974\n",
            "Upper bound: 20283\tDimensione del vocabolario: 1975\n",
            "\n"
          ]
        },
        {
          "output_type": "display_data",
          "data": {
            "text/plain": [
              "<Figure size 640x480 with 1 Axes>"
            ],
            "image/png": "[encoded data removed]"
          },
          "metadata": {}
        }
      ]
    },
    {
      "cell_type": "code",
      "source": [
        "compare.compare_ttr()"
      ],
      "metadata": {
        "colab": {
          "base_uri": "https://localhost:8080/",
          "height": 1000
        },
        "id": "By_5VO4mhpCo",
        "outputId": "9640a413-8932-415b-dd0c-964eb295cdd4"
      },
      "execution_count": 22,
      "outputs": [
        {
          "output_type": "stream",
          "name": "stdout",
          "text": [
            "Testo: animal_farm.txt\n",
            "Upper bound: 200\tType-Token Ratio: 0.585\n",
            "Upper bound: 400\tType-Token Ratio: 0.527\n",
            "Upper bound: 600\tType-Token Ratio: 0.483\n",
            "Upper bound: 800\tType-Token Ratio: 0.45\n",
            "Upper bound: 1000\tType-Token Ratio: 0.426\n",
            "Upper bound: 1200\tType-Token Ratio: 0.412\n",
            "Upper bound: 1400\tType-Token Ratio: 0.397\n",
            "Upper bound: 1600\tType-Token Ratio: 0.376\n",
            "Upper bound: 1800\tType-Token Ratio: 0.361\n",
            "Upper bound: 2000\tType-Token Ratio: 0.348\n",
            "Upper bound: 2200\tType-Token Ratio: 0.334\n",
            "Upper bound: 2400\tType-Token Ratio: 0.325\n",
            "Upper bound: 2600\tType-Token Ratio: 0.311\n",
            "Upper bound: 2800\tType-Token Ratio: 0.309\n",
            "Upper bound: 3000\tType-Token Ratio: 0.3\n",
            "Upper bound: 3200\tType-Token Ratio: 0.297\n",
            "Upper bound: 3400\tType-Token Ratio: 0.292\n",
            "Upper bound: 3600\tType-Token Ratio: 0.285\n",
            "Upper bound: 3800\tType-Token Ratio: 0.279\n",
            "Upper bound: 4000\tType-Token Ratio: 0.275\n",
            "Upper bound: 4200\tType-Token Ratio: 0.272\n",
            "Upper bound: 4400\tType-Token Ratio: 0.268\n",
            "Upper bound: 4600\tType-Token Ratio: 0.265\n",
            "Upper bound: 4800\tType-Token Ratio: 0.262\n",
            "Upper bound: 5000\tType-Token Ratio: 0.259\n",
            "Upper bound: 5200\tType-Token Ratio: 0.257\n",
            "Upper bound: 5400\tType-Token Ratio: 0.253\n",
            "Upper bound: 5600\tType-Token Ratio: 0.251\n",
            "Upper bound: 5800\tType-Token Ratio: 0.247\n",
            "Upper bound: 6000\tType-Token Ratio: 0.243\n",
            "Upper bound: 6200\tType-Token Ratio: 0.242\n",
            "Upper bound: 6400\tType-Token Ratio: 0.239\n",
            "Upper bound: 6600\tType-Token Ratio: 0.236\n",
            "Upper bound: 6800\tType-Token Ratio: 0.234\n",
            "Upper bound: 7000\tType-Token Ratio: 0.231\n",
            "Upper bound: 7200\tType-Token Ratio: 0.228\n",
            "Upper bound: 7400\tType-Token Ratio: 0.227\n",
            "Upper bound: 7600\tType-Token Ratio: 0.224\n",
            "Upper bound: 7800\tType-Token Ratio: 0.222\n",
            "Upper bound: 8000\tType-Token Ratio: 0.221\n",
            "Upper bound: 8200\tType-Token Ratio: 0.218\n",
            "Upper bound: 8400\tType-Token Ratio: 0.216\n",
            "Upper bound: 8600\tType-Token Ratio: 0.214\n",
            "Upper bound: 8800\tType-Token Ratio: 0.213\n",
            "Upper bound: 9000\tType-Token Ratio: 0.211\n",
            "Upper bound: 9200\tType-Token Ratio: 0.211\n",
            "Upper bound: 9400\tType-Token Ratio: 0.21\n",
            "Upper bound: 9600\tType-Token Ratio: 0.209\n",
            "Upper bound: 9800\tType-Token Ratio: 0.207\n",
            "Upper bound: 10000\tType-Token Ratio: 0.206\n",
            "Upper bound: 10200\tType-Token Ratio: 0.205\n",
            "Upper bound: 10400\tType-Token Ratio: 0.203\n",
            "Upper bound: 10600\tType-Token Ratio: 0.202\n",
            "Upper bound: 10800\tType-Token Ratio: 0.2\n",
            "Upper bound: 11000\tType-Token Ratio: 0.198\n",
            "Upper bound: 11200\tType-Token Ratio: 0.197\n",
            "Upper bound: 11400\tType-Token Ratio: 0.196\n",
            "Upper bound: 11600\tType-Token Ratio: 0.195\n",
            "Upper bound: 11800\tType-Token Ratio: 0.195\n",
            "Upper bound: 12000\tType-Token Ratio: 0.194\n",
            "Upper bound: 12200\tType-Token Ratio: 0.193\n",
            "Upper bound: 12400\tType-Token Ratio: 0.19\n",
            "Upper bound: 12600\tType-Token Ratio: 0.19\n",
            "Upper bound: 12800\tType-Token Ratio: 0.189\n",
            "Upper bound: 13000\tType-Token Ratio: 0.188\n",
            "Upper bound: 13200\tType-Token Ratio: 0.187\n",
            "Upper bound: 13400\tType-Token Ratio: 0.185\n",
            "Upper bound: 13600\tType-Token Ratio: 0.184\n",
            "Upper bound: 13800\tType-Token Ratio: 0.183\n",
            "Upper bound: 14000\tType-Token Ratio: 0.181\n",
            "Upper bound: 14200\tType-Token Ratio: 0.18\n",
            "Upper bound: 14400\tType-Token Ratio: 0.179\n",
            "Upper bound: 14600\tType-Token Ratio: 0.179\n",
            "Upper bound: 14800\tType-Token Ratio: 0.178\n",
            "Upper bound: 15000\tType-Token Ratio: 0.177\n",
            "Upper bound: 15200\tType-Token Ratio: 0.176\n",
            "Upper bound: 15400\tType-Token Ratio: 0.175\n",
            "Upper bound: 15600\tType-Token Ratio: 0.174\n",
            "Upper bound: 15800\tType-Token Ratio: 0.174\n",
            "Upper bound: 16000\tType-Token Ratio: 0.173\n",
            "Upper bound: 16200\tType-Token Ratio: 0.172\n",
            "Upper bound: 16400\tType-Token Ratio: 0.17\n",
            "Upper bound: 16600\tType-Token Ratio: 0.169\n",
            "Upper bound: 16800\tType-Token Ratio: 0.168\n",
            "Upper bound: 17000\tType-Token Ratio: 0.167\n",
            "Upper bound: 17200\tType-Token Ratio: 0.167\n",
            "Upper bound: 17400\tType-Token Ratio: 0.166\n",
            "Upper bound: 17600\tType-Token Ratio: 0.165\n",
            "Upper bound: 17800\tType-Token Ratio: 0.164\n",
            "Upper bound: 18000\tType-Token Ratio: 0.164\n",
            "Upper bound: 18200\tType-Token Ratio: 0.163\n",
            "Upper bound: 18400\tType-Token Ratio: 0.163\n",
            "Upper bound: 18600\tType-Token Ratio: 0.162\n",
            "Upper bound: 18800\tType-Token Ratio: 0.161\n",
            "Upper bound: 19000\tType-Token Ratio: 0.161\n",
            "Upper bound: 19200\tType-Token Ratio: 0.16\n",
            "Upper bound: 19400\tType-Token Ratio: 0.159\n",
            "Upper bound: 19600\tType-Token Ratio: 0.158\n",
            "Upper bound: 19800\tType-Token Ratio: 0.157\n",
            "Upper bound: 20000\tType-Token Ratio: 0.156\n",
            "Upper bound: 20200\tType-Token Ratio: 0.156\n",
            "Upper bound: 20400\tType-Token Ratio: 0.155\n",
            "Upper bound: 20600\tType-Token Ratio: 0.155\n",
            "Upper bound: 20800\tType-Token Ratio: 0.154\n",
            "Upper bound: 21000\tType-Token Ratio: 0.153\n",
            "Upper bound: 21200\tType-Token Ratio: 0.152\n",
            "Upper bound: 21400\tType-Token Ratio: 0.151\n",
            "Upper bound: 21600\tType-Token Ratio: 0.151\n",
            "Upper bound: 21800\tType-Token Ratio: 0.15\n",
            "Upper bound: 22000\tType-Token Ratio: 0.149\n",
            "Upper bound: 22200\tType-Token Ratio: 0.149\n",
            "Upper bound: 22400\tType-Token Ratio: 0.149\n",
            "Upper bound: 22600\tType-Token Ratio: 0.149\n",
            "Upper bound: 22800\tType-Token Ratio: 0.148\n",
            "Upper bound: 23000\tType-Token Ratio: 0.148\n",
            "Upper bound: 23200\tType-Token Ratio: 0.148\n",
            "Upper bound: 23400\tType-Token Ratio: 0.148\n",
            "Upper bound: 23600\tType-Token Ratio: 0.147\n",
            "Upper bound: 23800\tType-Token Ratio: 0.146\n",
            "Upper bound: 24000\tType-Token Ratio: 0.146\n",
            "Upper bound: 24200\tType-Token Ratio: 0.146\n",
            "Upper bound: 24400\tType-Token Ratio: 0.145\n",
            "Upper bound: 24600\tType-Token Ratio: 0.145\n",
            "Upper bound: 24800\tType-Token Ratio: 0.145\n",
            "Upper bound: 25000\tType-Token Ratio: 0.144\n",
            "Upper bound: 25200\tType-Token Ratio: 0.144\n",
            "Upper bound: 25400\tType-Token Ratio: 0.143\n",
            "Upper bound: 25600\tType-Token Ratio: 0.142\n",
            "Upper bound: 25800\tType-Token Ratio: 0.142\n",
            "Upper bound: 26000\tType-Token Ratio: 0.141\n",
            "Upper bound: 26200\tType-Token Ratio: 0.141\n",
            "Upper bound: 26400\tType-Token Ratio: 0.14\n",
            "Upper bound: 26600\tType-Token Ratio: 0.14\n",
            "Upper bound: 26800\tType-Token Ratio: 0.139\n",
            "Upper bound: 27000\tType-Token Ratio: 0.138\n",
            "Upper bound: 27200\tType-Token Ratio: 0.138\n",
            "Upper bound: 27400\tType-Token Ratio: 0.137\n",
            "Upper bound: 27600\tType-Token Ratio: 0.137\n",
            "Upper bound: 27800\tType-Token Ratio: 0.137\n",
            "Upper bound: 28000\tType-Token Ratio: 0.136\n",
            "Upper bound: 28200\tType-Token Ratio: 0.136\n",
            "Upper bound: 28400\tType-Token Ratio: 0.135\n",
            "Upper bound: 28600\tType-Token Ratio: 0.135\n",
            "Upper bound: 28800\tType-Token Ratio: 0.134\n",
            "Upper bound: 29000\tType-Token Ratio: 0.134\n",
            "Upper bound: 29200\tType-Token Ratio: 0.133\n",
            "Upper bound: 29400\tType-Token Ratio: 0.133\n",
            "Upper bound: 29600\tType-Token Ratio: 0.133\n",
            "Upper bound: 29800\tType-Token Ratio: 0.132\n",
            "Upper bound: 30000\tType-Token Ratio: 0.132\n",
            "Upper bound: 30200\tType-Token Ratio: 0.131\n",
            "Upper bound: 30400\tType-Token Ratio: 0.131\n",
            "Upper bound: 30600\tType-Token Ratio: 0.13\n",
            "Upper bound: 30800\tType-Token Ratio: 0.13\n",
            "Upper bound: 31000\tType-Token Ratio: 0.129\n",
            "Upper bound: 31200\tType-Token Ratio: 0.129\n",
            "Upper bound: 31400\tType-Token Ratio: 0.129\n",
            "Upper bound: 31600\tType-Token Ratio: 0.128\n",
            "Upper bound: 31800\tType-Token Ratio: 0.128\n",
            "Upper bound: 32000\tType-Token Ratio: 0.127\n",
            "Upper bound: 32200\tType-Token Ratio: 0.127\n",
            "Upper bound: 32400\tType-Token Ratio: 0.127\n",
            "Upper bound: 32600\tType-Token Ratio: 0.126\n",
            "Upper bound: 32800\tType-Token Ratio: 0.126\n",
            "Upper bound: 33000\tType-Token Ratio: 0.126\n",
            "Upper bound: 33200\tType-Token Ratio: 0.126\n",
            "Upper bound: 33400\tType-Token Ratio: 0.126\n",
            "Upper bound: 33600\tType-Token Ratio: 0.125\n",
            "Upper bound: 33800\tType-Token Ratio: 0.125\n",
            "Upper bound: 34000\tType-Token Ratio: 0.125\n",
            "Upper bound: 34200\tType-Token Ratio: 0.124\n",
            "Upper bound: 34400\tType-Token Ratio: 0.124\n",
            "Upper bound: 34453\tType-Token Ratio: 0.124\n",
            "\n",
            "Testo: constitution_of_the_united_states.txt\n",
            "Upper bound: 200\tType-Token Ratio: 0.475\n",
            "Upper bound: 400\tType-Token Ratio: 0.422\n",
            "Upper bound: 600\tType-Token Ratio: 0.395\n",
            "Upper bound: 800\tType-Token Ratio: 0.361\n",
            "Upper bound: 1000\tType-Token Ratio: 0.341\n",
            "Upper bound: 1200\tType-Token Ratio: 0.292\n",
            "Upper bound: 1400\tType-Token Ratio: 0.283\n",
            "Upper bound: 1600\tType-Token Ratio: 0.268\n",
            "Upper bound: 1800\tType-Token Ratio: 0.253\n",
            "Upper bound: 2000\tType-Token Ratio: 0.239\n",
            "Upper bound: 2200\tType-Token Ratio: 0.23\n",
            "Upper bound: 2400\tType-Token Ratio: 0.226\n",
            "Upper bound: 2600\tType-Token Ratio: 0.225\n",
            "Upper bound: 2800\tType-Token Ratio: 0.219\n",
            "Upper bound: 3000\tType-Token Ratio: 0.214\n",
            "Upper bound: 3200\tType-Token Ratio: 0.209\n",
            "Upper bound: 3400\tType-Token Ratio: 0.211\n",
            "Upper bound: 3600\tType-Token Ratio: 0.219\n",
            "Upper bound: 3800\tType-Token Ratio: 0.218\n",
            "Upper bound: 4000\tType-Token Ratio: 0.214\n",
            "Upper bound: 4200\tType-Token Ratio: 0.212\n",
            "Upper bound: 4400\tType-Token Ratio: 0.208\n",
            "Upper bound: 4600\tType-Token Ratio: 0.202\n",
            "Upper bound: 4800\tType-Token Ratio: 0.196\n",
            "Upper bound: 5000\tType-Token Ratio: 0.192\n",
            "Upper bound: 5200\tType-Token Ratio: 0.186\n",
            "Upper bound: 5400\tType-Token Ratio: 0.184\n",
            "Upper bound: 5600\tType-Token Ratio: 0.182\n",
            "Upper bound: 5800\tType-Token Ratio: 0.178\n",
            "Upper bound: 6000\tType-Token Ratio: 0.175\n",
            "Upper bound: 6200\tType-Token Ratio: 0.173\n",
            "Upper bound: 6400\tType-Token Ratio: 0.171\n",
            "Upper bound: 6600\tType-Token Ratio: 0.168\n",
            "Upper bound: 6800\tType-Token Ratio: 0.167\n",
            "Upper bound: 7000\tType-Token Ratio: 0.165\n",
            "Upper bound: 7200\tType-Token Ratio: 0.171\n",
            "Upper bound: 7400\tType-Token Ratio: 0.174\n",
            "Upper bound: 7600\tType-Token Ratio: 0.172\n",
            "Upper bound: 7800\tType-Token Ratio: 0.172\n",
            "Upper bound: 8000\tType-Token Ratio: 0.173\n",
            "Upper bound: 8200\tType-Token Ratio: 0.173\n",
            "Upper bound: 8400\tType-Token Ratio: 0.171\n",
            "Upper bound: 8600\tType-Token Ratio: 0.169\n",
            "Upper bound: 8800\tType-Token Ratio: 0.166\n",
            "Upper bound: 9000\tType-Token Ratio: 0.163\n",
            "Upper bound: 9200\tType-Token Ratio: 0.161\n",
            "Upper bound: 9400\tType-Token Ratio: 0.16\n",
            "Upper bound: 9600\tType-Token Ratio: 0.159\n",
            "Upper bound: 9800\tType-Token Ratio: 0.157\n",
            "Upper bound: 10000\tType-Token Ratio: 0.156\n",
            "Upper bound: 10200\tType-Token Ratio: 0.155\n",
            "Upper bound: 10400\tType-Token Ratio: 0.154\n",
            "Upper bound: 10600\tType-Token Ratio: 0.151\n",
            "Upper bound: 10800\tType-Token Ratio: 0.149\n",
            "Upper bound: 11000\tType-Token Ratio: 0.147\n",
            "Upper bound: 11200\tType-Token Ratio: 0.145\n",
            "Upper bound: 11400\tType-Token Ratio: 0.143\n",
            "Upper bound: 11600\tType-Token Ratio: 0.142\n",
            "Upper bound: 11800\tType-Token Ratio: 0.14\n",
            "Upper bound: 12000\tType-Token Ratio: 0.138\n",
            "Upper bound: 12200\tType-Token Ratio: 0.136\n",
            "Upper bound: 12400\tType-Token Ratio: 0.135\n",
            "Upper bound: 12600\tType-Token Ratio: 0.134\n",
            "Upper bound: 12800\tType-Token Ratio: 0.132\n",
            "Upper bound: 13000\tType-Token Ratio: 0.131\n",
            "Upper bound: 13200\tType-Token Ratio: 0.129\n",
            "Upper bound: 13400\tType-Token Ratio: 0.127\n",
            "Upper bound: 13600\tType-Token Ratio: 0.126\n",
            "Upper bound: 13800\tType-Token Ratio: 0.125\n",
            "Upper bound: 14000\tType-Token Ratio: 0.124\n",
            "Upper bound: 14200\tType-Token Ratio: 0.122\n",
            "Upper bound: 14400\tType-Token Ratio: 0.12\n",
            "Upper bound: 14600\tType-Token Ratio: 0.119\n",
            "Upper bound: 14800\tType-Token Ratio: 0.118\n",
            "Upper bound: 15000\tType-Token Ratio: 0.116\n",
            "Upper bound: 15200\tType-Token Ratio: 0.115\n",
            "Upper bound: 15400\tType-Token Ratio: 0.114\n",
            "Upper bound: 15600\tType-Token Ratio: 0.114\n",
            "Upper bound: 15800\tType-Token Ratio: 0.113\n",
            "Upper bound: 16000\tType-Token Ratio: 0.111\n",
            "Upper bound: 16200\tType-Token Ratio: 0.111\n",
            "Upper bound: 16400\tType-Token Ratio: 0.109\n",
            "Upper bound: 16600\tType-Token Ratio: 0.108\n",
            "Upper bound: 16800\tType-Token Ratio: 0.108\n",
            "Upper bound: 17000\tType-Token Ratio: 0.107\n",
            "Upper bound: 17200\tType-Token Ratio: 0.107\n",
            "Upper bound: 17400\tType-Token Ratio: 0.105\n",
            "Upper bound: 17600\tType-Token Ratio: 0.104\n",
            "Upper bound: 17800\tType-Token Ratio: 0.103\n",
            "Upper bound: 18000\tType-Token Ratio: 0.102\n",
            "Upper bound: 18200\tType-Token Ratio: 0.101\n",
            "Upper bound: 18400\tType-Token Ratio: 0.101\n",
            "Upper bound: 18600\tType-Token Ratio: 0.1\n",
            "Upper bound: 18800\tType-Token Ratio: 0.1\n",
            "Upper bound: 19000\tType-Token Ratio: 0.1\n",
            "Upper bound: 19200\tType-Token Ratio: 0.1\n",
            "Upper bound: 19400\tType-Token Ratio: 0.1\n",
            "Upper bound: 19600\tType-Token Ratio: 0.099\n",
            "Upper bound: 19800\tType-Token Ratio: 0.099\n",
            "Upper bound: 20000\tType-Token Ratio: 0.098\n",
            "Upper bound: 20200\tType-Token Ratio: 0.098\n",
            "Upper bound: 20283\tType-Token Ratio: 0.097\n",
            "\n"
          ]
        },
        {
          "output_type": "display_data",
          "data": {
            "text/plain": [
              "<Figure size 640x480 with 1 Axes>"
            ],
            "image/png": "[encoded data removed]"
          },
          "metadata": {}
        }
      ]
    },
    {
      "cell_type": "code",
      "source": [
        "compare.compare_lemmas()"
      ],
      "metadata": {
        "colab": {
          "base_uri": "https://localhost:8080/"
        },
        "id": "8FtVK6e8k8O8",
        "outputId": "50aaa5d1-e35a-4500-b87f-b01784641e17"
      },
      "execution_count": 23,
      "outputs": [
        {
          "output_type": "stream",
          "name": "stdout",
          "text": [
            "Testo: animal_farm.txt\n",
            "Numero di lemmi distinti: 3479\n",
            "\n",
            "Testo: constitution_of_the_united_states.txt\n",
            "Numero di lemmi distinti: 1801\n",
            "\n"
          ]
        }
      ]
    },
    {
      "cell_type": "code",
      "source": [
        "compare.compare_sentiment()"
      ],
      "metadata": {
        "colab": {
          "base_uri": "https://localhost:8080/",
          "height": 569
        },
        "id": "TDj7I3XOUntl",
        "outputId": "91679394-116d-486e-de62-d04d360f9e0f"
      },
      "execution_count": 24,
      "outputs": [
        {
          "output_type": "stream",
          "name": "stdout",
          "text": [
            "Text: animal_farm.txt\n",
            "Frazione di frasi con sentiment negativo: 0.679\n",
            "Frazione di frasi con sentiment positivo: 0.321\n",
            "\n",
            "Text: constitution_of_the_united_states.txt\n",
            "Frazione di frasi con sentiment negativo: 0.568\n",
            "Frazione di frasi con sentiment positivo: 0.432\n",
            "\n"
          ]
        },
        {
          "output_type": "display_data",
          "data": {
            "text/plain": [
              "<Figure size 640x480 with 1 Axes>"
            ],
            "image/png": "[encoded data removed]"
          },
          "metadata": {}
        }
      ]
    }
  ],
  "metadata": {
    "colab": {
      "provenance": [],
      "collapsed_sections": [
        "ynn3GZIwwQmq",
        "pSPkIxwKwTov"
      ]
    },
    "kernelspec": {
      "display_name": "Python 3",
      "name": "python3"
    },
    "language_info": {
      "name": "python"
    }
  },
  "nbformat": 4,
  "nbformat_minor": 0
}